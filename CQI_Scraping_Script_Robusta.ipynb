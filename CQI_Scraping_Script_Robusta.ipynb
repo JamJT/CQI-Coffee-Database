{
 "cells": [
  {
   "cell_type": "code",
   "execution_count": 51,
   "metadata": {},
   "outputs": [],
   "source": [
    "#pip install beautifulsoup4\n",
    "#pip install selenium\n",
    "#pip install lxml\n",
    "#pip install webdriver_manager"
   ]
  },
  {
   "cell_type": "code",
   "execution_count": 52,
   "metadata": {},
   "outputs": [],
   "source": [
    "# Importing libraries for Scraping and for storing data.\n",
    "from selenium import webdriver\n",
    "from selenium.webdriver.chrome.service import Service\n",
    "from webdriver_manager.chrome import ChromeDriverManager\n",
    "from selenium.webdriver.common.by import By\n",
    "from bs4 import BeautifulSoup\n",
    "import pandas as pd \n",
    "import time"
   ]
  },
  {
   "cell_type": "code",
   "execution_count": 53,
   "metadata": {},
   "outputs": [],
   "source": [
    "# Login information to access Coffee Quality Institute Database\n",
    "login_email = #'Login Email'\n",
    "login_password = #'Password'"
   ]
  },
  {
   "cell_type": "code",
   "execution_count": 54,
   "metadata": {},
   "outputs": [
    {
     "name": "stderr",
     "output_type": "stream",
     "text": [
      "C:\\Users\\jamal\\AppData\\Local\\Temp\\ipykernel_23652\\3286246540.py:2: DeprecationWarning: executable_path has been deprecated, please pass in a Service object\n",
      "  driver = webdriver.Chrome(r'\"C:\\Users\\jamal\\Downloads\\chromedriver_win32\\chromedriver.exe\"')\n"
     ]
    }
   ],
   "source": [
    "# open chromedriver\n",
    "driver = webdriver.Chrome(service=Service(ChromeDriverManager().install()))\n",
    "time.sleep(2)"
   ]
  },
  {
   "cell_type": "code",
   "execution_count": 55,
   "metadata": {},
   "outputs": [],
   "source": [
    "# navigate to login page\n",
    "driver.get('https://database.coffeeinstitute.org/login')\n",
    "time.sleep(2)"
   ]
  },
  {
   "cell_type": "code",
   "execution_count": 56,
   "metadata": {},
   "outputs": [],
   "source": [
    "# submit login credentials \n",
    "form = driver.find_element(By.XPATH,'//html/body/content[@class=\"scrollable\"]/div[@class=\"container page\"]/div[@class=\"form short\"]/div[@class=\"login panel\"]/form')\n",
    "username = driver.find_element(By.NAME,\"username\")\n",
    "password = driver.find_element(By.NAME,\"password\")\n",
    "time.sleep(2)"
   ]
  },
  {
   "cell_type": "code",
   "execution_count": 57,
   "metadata": {},
   "outputs": [],
   "source": [
    "username.send_keys(login_email)\n",
    "password.send_keys(login_password)\n",
    "driver.find_element(By.CLASS_NAME,\"submit\").click()\n",
    "time.sleep(2)"
   ]
  },
  {
   "cell_type": "code",
   "execution_count": 58,
   "metadata": {},
   "outputs": [],
   "source": [
    "# navigate to coffees page, then to robustas page containing links to all quality reports \n",
    "coffees = driver.find_element(By.XPATH,'//html/body/header/nav[@id=\"main\"]/div[@class=\"container\"]/div[@class=\"in\"]/a[@href=\"/coffees\"]').click()\n",
    "time.sleep(10)\n",
    "driver.find_element(By.LINK_TEXT,'Robusta Coffees').click()\n",
    "time.sleep(3)"
   ]
  },
  {
   "cell_type": "code",
   "execution_count": 59,
   "metadata": {},
   "outputs": [],
   "source": [
    "# these values can be changed if this breaks midway through collecting data to pick up close to where you left off\n",
    "page = 0\n",
    "coffeenum = 0\n"
   ]
  },
  {
   "cell_type": "code",
   "execution_count": 60,
   "metadata": {},
   "outputs": [
    {
     "name": "stdout",
     "output_type": "stream",
     "text": [
      "page 3\n",
      "rows: \n",
      "30\n",
      "tables: \n",
      "5\n",
      "[Empty DataFrame\n",
      "Columns: [(81.83, Q Arabica Certificate, Embeddable Image, Cupping Protocol and Descriptors, View Green Analysis Details, Request a Sample, Species Arabica, Owner Baguma Moris)]\n",
      "Index: []]\n",
      "coffee_2_table_0.csv\n",
      "[                   0                            1                   2  \\\n",
      "0  Country of Origin                       Uganda      Number of Bags   \n",
      "1          Farm Name                     MASEREKA          Bag Weight   \n",
      "2         Lot Number                         8009  In-Country Partner   \n",
      "3               Mill  kyagalanyi Hulling facility        Harvest Year   \n",
      "4         ICO Number                        35/11        Grading Date   \n",
      "5            Company               kyagalanyi ltd               Owner   \n",
      "6           Altitude                         1806             Variety   \n",
      "7             Region                     RWENZORI              Status   \n",
      "8           Producer    KYAGALANYI COFFEE LIMITED   Processing Method   \n",
      "\n",
      "                                     3  \n",
      "0                                  320  \n",
      "1                                60 kg  \n",
      "2  Uganda Coffee Development Authority  \n",
      "3                          2022 / 2023  \n",
      "4                     March 14th, 2023  \n",
      "5                         Baguma Moris  \n",
      "6                                 SL14  \n",
      "7                            Completed  \n",
      "8                         Washed / Wet  ]\n",
      "coffee_2_table_1.csv\n",
      "[            0     1                 2      3\n",
      "0       Aroma  7.58        Uniformity  10.00\n",
      "1      Flavor  7.42         Clean Cup  10.00\n",
      "2  Aftertaste  7.33         Sweetness  10.00\n",
      "3     Acidity  7.33           Overall   7.33\n",
      "4        Body  7.50           Defects   0.00\n",
      "5     Balance  7.33  Total Cup Points  81.83]\n",
      "coffee_2_table_2.csv\n",
      "[                      0               1                     2               3\n",
      "0              Moisture          11.5 %                 Color           Green\n",
      "1  Category One Defects  0 full defects  Category Two Defects  3 full defects\n",
      "2               Quakers               0                   NaN             NaN]\n",
      "coffee_2_table_3.csv\n",
      "[                       0                                                  1\n",
      "0             Expiration                                   March 13th, 2024\n",
      "1     Certification Body                Uganda Coffee Development Authority\n",
      "2  Certification Address  Coffee House, Plot 35, Jinja Road, P.O. Box 72...\n",
      "3  Certification Contact     Brenda Kamara Kemigisha Mangeni - 256773040119]\n",
      "coffee_2_table_4.csv\n"
     ]
    },
    {
     "ename": "NoSuchWindowException",
     "evalue": "Message: no such window: target window already closed\nfrom unknown error: web view not found\n  (Session info: chrome=111.0.5563.65)\nStacktrace:\nBacktrace:\n\t(No symbol) [0x0120DCE3]\n\t(No symbol) [0x011A39D1]\n\t(No symbol) [0x010B4DA8]\n\t(No symbol) [0x0109D0D3]\n\t(No symbol) [0x010FEA8B]\n\t(No symbol) [0x0110D093]\n\t(No symbol) [0x010FACC6]\n\t(No symbol) [0x010D6F68]\n\t(No symbol) [0x010D80CD]\n\tGetHandleVerifier [0x01483832+2506274]\n\tGetHandleVerifier [0x014B9794+2727300]\n\tGetHandleVerifier [0x014BE36C+2746716]\n\tGetHandleVerifier [0x012B6690+617600]\n\t(No symbol) [0x011AC712]\n\t(No symbol) [0x011B1FF8]\n\t(No symbol) [0x011B20DB]\n\t(No symbol) [0x011BC63B]\n\tBaseThreadInitThunk [0x76907D69+25]\n\tRtlInitializeExceptionChain [0x77BEB74B+107]\n\tRtlClearBits [0x77BEB6CF+191]\n",
     "output_type": "error",
     "traceback": [
      "\u001b[1;31m---------------------------------------------------------------------------\u001b[0m",
      "\u001b[1;31mNoSuchWindowException\u001b[0m                     Traceback (most recent call last)",
      "Cell \u001b[1;32mIn[60], line 15\u001b[0m\n\u001b[0;32m     13\u001b[0m \tpage_buttons[\u001b[39m-\u001b[39m\u001b[39m1\u001b[39m]\u001b[39m.\u001b[39mclick() \u001b[39m# the 'next' button\u001b[39;00m\n\u001b[0;32m     14\u001b[0m \ttime\u001b[39m.\u001b[39msleep(\u001b[39m1\u001b[39m)\n\u001b[1;32m---> 15\u001b[0m \tpage_buttons \u001b[39m=\u001b[39m driver\u001b[39m.\u001b[39;49mfind_elements(By\u001b[39m.\u001b[39;49mCLASS_NAME,\u001b[39m'\u001b[39;49m\u001b[39mpaginate_button\u001b[39;49m\u001b[39m'\u001b[39;49m)\n\u001b[0;32m     17\u001b[0m \u001b[39m# select the cell to click through to the next coffee-data page\u001b[39;00m\n\u001b[0;32m     18\u001b[0m time\u001b[39m.\u001b[39msleep(\u001b[39m2\u001b[39m) \u001b[39m# this next line errors out sometimes, maybe it needs more of a time buffer \u001b[39;00m\n",
      "File \u001b[1;32mc:\\Users\\jamal\\AppData\\Local\\Programs\\Python\\Python311\\Lib\\site-packages\\selenium\\webdriver\\remote\\webdriver.py:860\u001b[0m, in \u001b[0;36mWebDriver.find_elements\u001b[1;34m(self, by, value)\u001b[0m\n\u001b[0;32m    856\u001b[0m     value \u001b[39m=\u001b[39m \u001b[39mf\u001b[39m\u001b[39m'\u001b[39m\u001b[39m[name=\u001b[39m\u001b[39m\"\u001b[39m\u001b[39m{\u001b[39;00mvalue\u001b[39m}\u001b[39;00m\u001b[39m\"\u001b[39m\u001b[39m]\u001b[39m\u001b[39m'\u001b[39m\n\u001b[0;32m    858\u001b[0m \u001b[39m# Return empty list if driver returns null\u001b[39;00m\n\u001b[0;32m    859\u001b[0m \u001b[39m# See https://github.com/SeleniumHQ/selenium/issues/4555\u001b[39;00m\n\u001b[1;32m--> 860\u001b[0m \u001b[39mreturn\u001b[39;00m \u001b[39mself\u001b[39;49m\u001b[39m.\u001b[39;49mexecute(Command\u001b[39m.\u001b[39;49mFIND_ELEMENTS, {\u001b[39m\"\u001b[39;49m\u001b[39musing\u001b[39;49m\u001b[39m\"\u001b[39;49m: by, \u001b[39m\"\u001b[39;49m\u001b[39mvalue\u001b[39;49m\u001b[39m\"\u001b[39;49m: value})[\u001b[39m\"\u001b[39m\u001b[39mvalue\u001b[39m\u001b[39m\"\u001b[39m] \u001b[39mor\u001b[39;00m []\n",
      "File \u001b[1;32mc:\\Users\\jamal\\AppData\\Local\\Programs\\Python\\Python311\\Lib\\site-packages\\selenium\\webdriver\\remote\\webdriver.py:440\u001b[0m, in \u001b[0;36mWebDriver.execute\u001b[1;34m(self, driver_command, params)\u001b[0m\n\u001b[0;32m    438\u001b[0m response \u001b[39m=\u001b[39m \u001b[39mself\u001b[39m\u001b[39m.\u001b[39mcommand_executor\u001b[39m.\u001b[39mexecute(driver_command, params)\n\u001b[0;32m    439\u001b[0m \u001b[39mif\u001b[39;00m response:\n\u001b[1;32m--> 440\u001b[0m     \u001b[39mself\u001b[39;49m\u001b[39m.\u001b[39;49merror_handler\u001b[39m.\u001b[39;49mcheck_response(response)\n\u001b[0;32m    441\u001b[0m     response[\u001b[39m\"\u001b[39m\u001b[39mvalue\u001b[39m\u001b[39m\"\u001b[39m] \u001b[39m=\u001b[39m \u001b[39mself\u001b[39m\u001b[39m.\u001b[39m_unwrap_value(response\u001b[39m.\u001b[39mget(\u001b[39m\"\u001b[39m\u001b[39mvalue\u001b[39m\u001b[39m\"\u001b[39m, \u001b[39mNone\u001b[39;00m))\n\u001b[0;32m    442\u001b[0m     \u001b[39mreturn\u001b[39;00m response\n",
      "File \u001b[1;32mc:\\Users\\jamal\\AppData\\Local\\Programs\\Python\\Python311\\Lib\\site-packages\\selenium\\webdriver\\remote\\errorhandler.py:245\u001b[0m, in \u001b[0;36mErrorHandler.check_response\u001b[1;34m(self, response)\u001b[0m\n\u001b[0;32m    243\u001b[0m         alert_text \u001b[39m=\u001b[39m value[\u001b[39m\"\u001b[39m\u001b[39malert\u001b[39m\u001b[39m\"\u001b[39m]\u001b[39m.\u001b[39mget(\u001b[39m\"\u001b[39m\u001b[39mtext\u001b[39m\u001b[39m\"\u001b[39m)\n\u001b[0;32m    244\u001b[0m     \u001b[39mraise\u001b[39;00m exception_class(message, screen, stacktrace, alert_text)  \u001b[39m# type: ignore[call-arg]  # mypy is not smart enough here\u001b[39;00m\n\u001b[1;32m--> 245\u001b[0m \u001b[39mraise\u001b[39;00m exception_class(message, screen, stacktrace)\n",
      "\u001b[1;31mNoSuchWindowException\u001b[0m: Message: no such window: target window already closed\nfrom unknown error: web view not found\n  (Session info: chrome=111.0.5563.65)\nStacktrace:\nBacktrace:\n\t(No symbol) [0x0120DCE3]\n\t(No symbol) [0x011A39D1]\n\t(No symbol) [0x010B4DA8]\n\t(No symbol) [0x0109D0D3]\n\t(No symbol) [0x010FEA8B]\n\t(No symbol) [0x0110D093]\n\t(No symbol) [0x010FACC6]\n\t(No symbol) [0x010D6F68]\n\t(No symbol) [0x010D80CD]\n\tGetHandleVerifier [0x01483832+2506274]\n\tGetHandleVerifier [0x014B9794+2727300]\n\tGetHandleVerifier [0x014BE36C+2746716]\n\tGetHandleVerifier [0x012B6690+617600]\n\t(No symbol) [0x011AC712]\n\t(No symbol) [0x011B1FF8]\n\t(No symbol) [0x011B20DB]\n\t(No symbol) [0x011BC63B]\n\tBaseThreadInitThunk [0x76907D69+25]\n\tRtlInitializeExceptionChain [0x77BEB74B+107]\n\tRtlClearBits [0x77BEB6CF+191]\n"
     ]
    }
   ],
   "source": [
    "while True:\n",
    "\tprint('page {}'.format(page))\n",
    "\n",
    "\t# 50 rows in these tables * 8 columns per row = 400 cells. Every 8th cell clicks through to that coffee's data page\n",
    "\tfor i in range(1,400,8):\n",
    "\t\ttime.sleep(4)\n",
    "\n",
    "\t\t# paginate back to the desired page number\n",
    "\t\t# don't think there's a way around this - the back() option goes too far back\n",
    "\t\t# some page numbers aren't available in the ui, but 'next' always is unless you've reached the end \n",
    "\t\tfor p_num in range(page):\n",
    "\t\t\tpage_buttons = driver.find_elements(By.CLASS_NAME,'paginate_button')\n",
    "\t\t\tpage_buttons[-1].click() # the 'next' button\n",
    "\t\t\ttime.sleep(1)\n",
    "\t\t\tpage_buttons = driver.find_elements(By.CLASS_NAME,'paginate_button')\n",
    "\n",
    "\t\t# select the cell to click through to the next coffee-data page\n",
    "\t\ttime.sleep(2) # this next line errors out sometimes, maybe it needs more of a time buffer \n",
    "\t\ttest_page = driver.find_elements(By.XPATH,\"//td\")[i].click()\n",
    "\t\ttime.sleep(2)\n",
    "\t\tprint('rows: ')\n",
    "\t\tprint(len(driver.find_elements(By.XPATH,\"//tr\")))\n",
    "\t\ttables = driver.find_elements(By.TAG_NAME, \"table\")\n",
    "\n",
    "\t\t# loop over all coffee reports on the page, processing each one and writing to csv\n",
    "\t\tprint('tables: ')\n",
    "\t\tprint(len(tables))\n",
    "\t\tj = 0\n",
    "\t\tfor tab in tables:\n",
    "\t\t\ttry:\n",
    "\t\t\t\tt = BeautifulSoup(tab.get_attribute('outerHTML'), \"html.parser\")\n",
    "\t\t\t\t#print(t)\n",
    "\t\t\t\tdf = pd.read_html(str(t))\n",
    "\t\t\t\tprint(df)\n",
    "\t\t\t\tname = 'coffee_{}_table_{}.csv'.format(coffeenum,j)\n",
    "\t\t\t\tdf[0].to_csv(name)\n",
    "\t\t\t\tprint(name)\n",
    "\t\t\texcept:\n",
    "\t\t\t\t# only one's needed but I want this to be onoxious since it's the only way I'm logging this currently\n",
    "\t\t\t\tprint('ERROR: {} failed'.format(name))\n",
    "\t\t\t\tprint('ERROR: {} failed'.format(name))\n",
    "\t\t\t\tprint('ERROR: {} failed'.format(name))\n",
    "\t\t\t\tprint('ERROR: {} failed'.format(name))\n",
    "\t\t\tj += 1\n",
    "\n",
    "\t\t# go back to page with all other coffee results\n",
    "\t\t#driver.back() # note: this isn't working as expected, manually going back to pg 1 via url instead\n",
    "\t\tdriver.get('https://database.coffeeinstitute.org/coffees/robusta')\n",
    "\t\ttime.sleep(2)\n",
    "\t\tcoffeenum += 1\n",
    "\n",
    "\tpage += 1\n",
    "\tif page == 2:\n",
    "\t\tbreak\n",
    "\n",
    "\n",
    "# close the driver\n",
    "driver.close()\n"
   ]
  },
  {
   "cell_type": "code",
   "execution_count": null,
   "metadata": {},
   "outputs": [],
   "source": []
  },
  {
   "cell_type": "code",
   "execution_count": null,
   "metadata": {},
   "outputs": [],
   "source": []
  },
  {
   "cell_type": "code",
   "execution_count": null,
   "metadata": {},
   "outputs": [],
   "source": []
  },
  {
   "cell_type": "code",
   "execution_count": null,
   "metadata": {},
   "outputs": [],
   "source": []
  }
 ],
 "metadata": {
  "kernelspec": {
   "display_name": "Python 3",
   "language": "python",
   "name": "python3"
  },
  "language_info": {
   "codemirror_mode": {
    "name": "ipython",
    "version": 3
   },
   "file_extension": ".py",
   "mimetype": "text/x-python",
   "name": "python",
   "nbconvert_exporter": "python",
   "pygments_lexer": "ipython3",
   "version": "3.11.2"
  },
  "orig_nbformat": 4
 },
 "nbformat": 4,
 "nbformat_minor": 2
}
