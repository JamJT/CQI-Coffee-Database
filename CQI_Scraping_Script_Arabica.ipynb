{
 "cells": [
  {
   "cell_type": "code",
   "execution_count": 6,
   "metadata": {},
   "outputs": [],
   "source": [
    "#pip install beautifulsoup4\n",
    "#pip install selenium\n",
    "#pip install lxml\n",
    "#pip install webdriver_manager"
   ]
  },
  {
   "cell_type": "code",
   "execution_count": 7,
   "metadata": {},
   "outputs": [],
   "source": [
    "# Importing libraries for Scraping and for storing data.\n",
    "from selenium import webdriver\n",
    "from selenium.webdriver.chrome.service import Service\n",
    "from webdriver_manager.chrome import ChromeDriverManager\n",
    "from selenium.webdriver.common.by import By\n",
    "from bs4 import BeautifulSoup\n",
    "import pandas as pd \n",
    "import time"
   ]
  },
  {
   "cell_type": "code",
   "execution_count": 8,
   "metadata": {},
   "outputs": [],
   "source": [
    "# Login information to access Coffee Quality Institute Database\n",
    "login_email = #'Login Email'\n",
    "login_password = #'Password'"
   ]
  },
  {
   "cell_type": "code",
   "execution_count": 9,
   "metadata": {},
   "outputs": [],
   "source": [
    "# open chromedriver\n",
    "driver = webdriver.Chrome(service=Service(ChromeDriverManager().install()))\n",
    "time.sleep(2)"
   ]
  },
  {
   "cell_type": "code",
   "execution_count": 10,
   "metadata": {},
   "outputs": [],
   "source": [
    "# navigate to login page\n",
    "driver.get('https://database.coffeeinstitute.org/login')\n",
    "time.sleep(2)"
   ]
  },
  {
   "cell_type": "code",
   "execution_count": 11,
   "metadata": {},
   "outputs": [],
   "source": [
    "# submit login credentials \n",
    "form = driver.find_element(By.XPATH,'//html/body/content[@class=\"scrollable\"]/div[@class=\"container page\"]/div[@class=\"form short\"]/div[@class=\"login panel\"]/form')\n",
    "username = driver.find_element(By.NAME,\"username\")\n",
    "password = driver.find_element(By.NAME,\"password\")\n",
    "time.sleep(2)"
   ]
  },
  {
   "cell_type": "code",
   "execution_count": 12,
   "metadata": {},
   "outputs": [],
   "source": [
    "username.send_keys(login_email)\n",
    "password.send_keys(login_password)\n",
    "driver.find_element(By.CLASS_NAME,\"submit\").click()\n",
    "time.sleep(2)"
   ]
  },
  {
   "cell_type": "code",
   "execution_count": 13,
   "metadata": {},
   "outputs": [],
   "source": [
    "# navigate to coffees page, then to arabicas page containing links to all quality reports \n",
    "coffees = driver.find_element(By.XPATH,'//html/body/header/nav[@id=\"main\"]/div[@class=\"container\"]/div[@class=\"in\"]/a[@href=\"/coffees\"]').click()\n",
    "time.sleep(10)\n",
    "driver.find_element(By.LINK_TEXT,'Arabica Coffees').click()\n",
    "time.sleep(3)"
   ]
  },
  {
   "cell_type": "code",
   "execution_count": 14,
   "metadata": {},
   "outputs": [],
   "source": [
    "# these values can be changed if this breaks midway through collecting data to pick up close to where you left off\n",
    "page = 0\n",
    "coffeenum = 0\n"
   ]
  },
  {
   "cell_type": "code",
   "execution_count": 15,
   "metadata": {},
   "outputs": [
    {
     "name": "stdout",
     "output_type": "stream",
     "text": [
      "page 0\n",
      "rows: \n",
      "30\n",
      "tables: \n",
      "5\n",
      "[Empty DataFrame\n",
      "Columns: [(89.33, Q Arabica Certificate, Embeddable Image, Cupping Protocol and Descriptors, View Green Analysis Details, Request a Sample, Species Arabica, Owner Coffee Quality Union)]\n",
      "Index: []]\n",
      "coffee_0_table_0.csv\n",
      "[                   0                      1                   2  \\\n",
      "0  Country of Origin               Colombia      Number of Bags   \n",
      "1          Farm Name       Finca El Paraiso          Bag Weight   \n",
      "2         Lot Number             CQU2022015  In-Country Partner   \n",
      "3               Mill       Finca El Paraiso        Harvest Year   \n",
      "4         ICO Number                    NaN        Grading Date   \n",
      "5            Company   Coffee Quality Union               Owner   \n",
      "6           Altitude              1700-1930             Variety   \n",
      "7             Region         Piendamo,Cauca              Status   \n",
      "8           Producer  Diego Samuel Bermudez   Processing Method   \n",
      "\n",
      "                         3  \n",
      "0                        1  \n",
      "1                    35 kg  \n",
      "2    Japan Coffee Exchange  \n",
      "3              2021 / 2022  \n",
      "4     September 21st, 2022  \n",
      "5     Coffee Quality Union  \n",
      "6                 Castillo  \n",
      "7                Completed  \n",
      "8  Double Anaerobic Washed  ]\n",
      "coffee_0_table_1.csv\n",
      "[            0     1                 2      3\n",
      "0       Aroma  8.58        Uniformity  10.00\n",
      "1      Flavor  8.50         Clean Cup  10.00\n",
      "2  Aftertaste  8.42         Sweetness  10.00\n",
      "3     Acidity  8.58           Overall   8.58\n",
      "4        Body  8.25           Defects   0.00\n",
      "5     Balance  8.42  Total Cup Points  89.33]\n",
      "coffee_0_table_2.csv\n",
      "[                      0               1                     2               3\n",
      "0              Moisture          11.8 %                 Color           Green\n",
      "1  Category One Defects  0 full defects  Category Two Defects  3 full defects\n",
      "2               Quakers               0                   NaN             NaN]\n",
      "coffee_0_table_3.csv\n",
      "[                       0                                                  1\n",
      "0             Expiration                               September 21st, 2023\n",
      "1     Certification Body                              Japan Coffee Exchange\n",
      "2  Certification Address  〒413-0002 静岡県熱海市伊豆山１１７３−５８ 1173-58 Izusan, Ata...\n",
      "3  Certification Contact            松澤　宏樹　Koju Matsuzawa - +81(0)9085642901]\n",
      "coffee_0_table_4.csv\n"
     ]
    },
    {
     "ename": "NoSuchWindowException",
     "evalue": "Message: no such window: target window already closed\nfrom unknown error: web view not found\n  (Session info: chrome=116.0.5845.142)\nStacktrace:\n\tGetHandleVerifier [0x008E37C3+48947]\n\t(No symbol) [0x00878551]\n\t(No symbol) [0x0077C92D]\n\t(No symbol) [0x007636E5]\n\t(No symbol) [0x007C8CDB]\n\t(No symbol) [0x007D7113]\n\t(No symbol) [0x007C4E86]\n\t(No symbol) [0x007A16C7]\n\t(No symbol) [0x007A284D]\n\tGetHandleVerifier [0x00B2FDF9+2458985]\n\tGetHandleVerifier [0x00B7744F+2751423]\n\tGetHandleVerifier [0x00B71361+2726609]\n\tGetHandleVerifier [0x00960680+560624]\n\t(No symbol) [0x0088238C]\n\t(No symbol) [0x0087E268]\n\t(No symbol) [0x0087E392]\n\t(No symbol) [0x008710B7]\n\tBaseThreadInitThunk [0x76627D59+25]\n\tRtlInitializeExceptionChain [0x771CB79B+107]\n\tRtlClearBits [0x771CB71F+191]\n",
     "output_type": "error",
     "traceback": [
      "\u001b[1;31m---------------------------------------------------------------------------\u001b[0m",
      "\u001b[1;31mNoSuchWindowException\u001b[0m                     Traceback (most recent call last)",
      "Cell \u001b[1;32mIn[15], line 19\u001b[0m\n\u001b[0;32m     17\u001b[0m \u001b[39m# select the cell to click through to the next coffee-data page\u001b[39;00m\n\u001b[0;32m     18\u001b[0m time\u001b[39m.\u001b[39msleep(\u001b[39m2\u001b[39m) \u001b[39m# this next line errors out sometimes, maybe it needs more of a time buffer \u001b[39;00m\n\u001b[1;32m---> 19\u001b[0m test_page \u001b[39m=\u001b[39m driver\u001b[39m.\u001b[39;49mfind_elements(By\u001b[39m.\u001b[39;49mXPATH,\u001b[39m\"\u001b[39;49m\u001b[39m//td\u001b[39;49m\u001b[39m\"\u001b[39;49m)[i]\u001b[39m.\u001b[39mclick()\n\u001b[0;32m     20\u001b[0m time\u001b[39m.\u001b[39msleep(\u001b[39m2\u001b[39m)\n\u001b[0;32m     21\u001b[0m \u001b[39mprint\u001b[39m(\u001b[39m'\u001b[39m\u001b[39mrows: \u001b[39m\u001b[39m'\u001b[39m)\n",
      "File \u001b[1;32mc:\\Users\\jamal\\AppData\\Local\\Programs\\Python\\Python311\\Lib\\site-packages\\selenium\\webdriver\\remote\\webdriver.py:860\u001b[0m, in \u001b[0;36mWebDriver.find_elements\u001b[1;34m(self, by, value)\u001b[0m\n\u001b[0;32m    856\u001b[0m     value \u001b[39m=\u001b[39m \u001b[39mf\u001b[39m\u001b[39m'\u001b[39m\u001b[39m[name=\u001b[39m\u001b[39m\"\u001b[39m\u001b[39m{\u001b[39;00mvalue\u001b[39m}\u001b[39;00m\u001b[39m\"\u001b[39m\u001b[39m]\u001b[39m\u001b[39m'\u001b[39m\n\u001b[0;32m    858\u001b[0m \u001b[39m# Return empty list if driver returns null\u001b[39;00m\n\u001b[0;32m    859\u001b[0m \u001b[39m# See https://github.com/SeleniumHQ/selenium/issues/4555\u001b[39;00m\n\u001b[1;32m--> 860\u001b[0m \u001b[39mreturn\u001b[39;00m \u001b[39mself\u001b[39;49m\u001b[39m.\u001b[39;49mexecute(Command\u001b[39m.\u001b[39;49mFIND_ELEMENTS, {\u001b[39m\"\u001b[39;49m\u001b[39musing\u001b[39;49m\u001b[39m\"\u001b[39;49m: by, \u001b[39m\"\u001b[39;49m\u001b[39mvalue\u001b[39;49m\u001b[39m\"\u001b[39;49m: value})[\u001b[39m\"\u001b[39m\u001b[39mvalue\u001b[39m\u001b[39m\"\u001b[39m] \u001b[39mor\u001b[39;00m []\n",
      "File \u001b[1;32mc:\\Users\\jamal\\AppData\\Local\\Programs\\Python\\Python311\\Lib\\site-packages\\selenium\\webdriver\\remote\\webdriver.py:440\u001b[0m, in \u001b[0;36mWebDriver.execute\u001b[1;34m(self, driver_command, params)\u001b[0m\n\u001b[0;32m    438\u001b[0m response \u001b[39m=\u001b[39m \u001b[39mself\u001b[39m\u001b[39m.\u001b[39mcommand_executor\u001b[39m.\u001b[39mexecute(driver_command, params)\n\u001b[0;32m    439\u001b[0m \u001b[39mif\u001b[39;00m response:\n\u001b[1;32m--> 440\u001b[0m     \u001b[39mself\u001b[39;49m\u001b[39m.\u001b[39;49merror_handler\u001b[39m.\u001b[39;49mcheck_response(response)\n\u001b[0;32m    441\u001b[0m     response[\u001b[39m\"\u001b[39m\u001b[39mvalue\u001b[39m\u001b[39m\"\u001b[39m] \u001b[39m=\u001b[39m \u001b[39mself\u001b[39m\u001b[39m.\u001b[39m_unwrap_value(response\u001b[39m.\u001b[39mget(\u001b[39m\"\u001b[39m\u001b[39mvalue\u001b[39m\u001b[39m\"\u001b[39m, \u001b[39mNone\u001b[39;00m))\n\u001b[0;32m    442\u001b[0m     \u001b[39mreturn\u001b[39;00m response\n",
      "File \u001b[1;32mc:\\Users\\jamal\\AppData\\Local\\Programs\\Python\\Python311\\Lib\\site-packages\\selenium\\webdriver\\remote\\errorhandler.py:245\u001b[0m, in \u001b[0;36mErrorHandler.check_response\u001b[1;34m(self, response)\u001b[0m\n\u001b[0;32m    243\u001b[0m         alert_text \u001b[39m=\u001b[39m value[\u001b[39m\"\u001b[39m\u001b[39malert\u001b[39m\u001b[39m\"\u001b[39m]\u001b[39m.\u001b[39mget(\u001b[39m\"\u001b[39m\u001b[39mtext\u001b[39m\u001b[39m\"\u001b[39m)\n\u001b[0;32m    244\u001b[0m     \u001b[39mraise\u001b[39;00m exception_class(message, screen, stacktrace, alert_text)  \u001b[39m# type: ignore[call-arg]  # mypy is not smart enough here\u001b[39;00m\n\u001b[1;32m--> 245\u001b[0m \u001b[39mraise\u001b[39;00m exception_class(message, screen, stacktrace)\n",
      "\u001b[1;31mNoSuchWindowException\u001b[0m: Message: no such window: target window already closed\nfrom unknown error: web view not found\n  (Session info: chrome=116.0.5845.142)\nStacktrace:\n\tGetHandleVerifier [0x008E37C3+48947]\n\t(No symbol) [0x00878551]\n\t(No symbol) [0x0077C92D]\n\t(No symbol) [0x007636E5]\n\t(No symbol) [0x007C8CDB]\n\t(No symbol) [0x007D7113]\n\t(No symbol) [0x007C4E86]\n\t(No symbol) [0x007A16C7]\n\t(No symbol) [0x007A284D]\n\tGetHandleVerifier [0x00B2FDF9+2458985]\n\tGetHandleVerifier [0x00B7744F+2751423]\n\tGetHandleVerifier [0x00B71361+2726609]\n\tGetHandleVerifier [0x00960680+560624]\n\t(No symbol) [0x0088238C]\n\t(No symbol) [0x0087E268]\n\t(No symbol) [0x0087E392]\n\t(No symbol) [0x008710B7]\n\tBaseThreadInitThunk [0x76627D59+25]\n\tRtlInitializeExceptionChain [0x771CB79B+107]\n\tRtlClearBits [0x771CB71F+191]\n"
     ]
    }
   ],
   "source": [
    "while True:\n",
    "\tprint('page {}'.format(page))\n",
    "\n",
    "\t# 50 rows in these tables * 8 columns per row = 400 cells. Every 8th cell clicks through to that coffee's data page\n",
    "\tfor i in range(1,400,8):\n",
    "\t\ttime.sleep(4)\n",
    "\n",
    "\t\t# paginate back to the desired page number\n",
    "\t\t# don't think there's a way around this - the back() option goes too far back\n",
    "\t\t# some page numbers aren't available in the ui, but 'next' always is unless you've reached the end \n",
    "\t\tfor p_num in range(page):\n",
    "\t\t\tpage_buttons = driver.find_elements(By.CLASS_NAME,'paginate_button')\n",
    "\t\t\tpage_buttons[-1].click() # the 'next' button\n",
    "\t\t\ttime.sleep(1)\n",
    "\t\t\tpage_buttons = driver.find_elements(By.CLASS_NAME,'paginate_button')\n",
    "\n",
    "\t\t# select the cell to click through to the next coffee-data page\n",
    "\t\ttime.sleep(2) # this next line errors out sometimes, maybe it needs more of a time buffer \n",
    "\t\ttest_page = driver.find_elements(By.XPATH,\"//td\")[i].click()\n",
    "\t\ttime.sleep(2)\n",
    "\t\tprint('rows: ')\n",
    "\t\tprint(len(driver.find_elements(By.XPATH,\"//tr\")))\n",
    "\t\ttables = driver.find_elements(By.TAG_NAME, \"table\")\n",
    "\n",
    "\t\t# loop over all coffee reports on the page, processing each one and writing to csv\n",
    "\t\tprint('tables: ')\n",
    "\t\tprint(len(tables))\n",
    "\t\tj = 0\n",
    "\t\tfor tab in tables:\n",
    "\t\t\ttry:\n",
    "\t\t\t\tt = BeautifulSoup(tab.get_attribute('outerHTML'), \"html.parser\")\n",
    "\t\t\t\t#print(t)\n",
    "\t\t\t\tdf = pd.read_html(str(t))\n",
    "\t\t\t\tprint(df)\n",
    "\t\t\t\tname = 'coffee_{}_table_{}.csv'.format(coffeenum,j)\n",
    "\t\t\t\tdf[0].to_csv(name)\n",
    "\t\t\t\tprint(name)\n",
    "\t\t\texcept:\n",
    "\t\t\t\t# only one's needed but I want this to be onoxious since it's the only way I'm logging this currently\n",
    "\t\t\t\tprint('ERROR: {} failed'.format(name))\n",
    "\t\t\t\tprint('ERROR: {} failed'.format(name))\n",
    "\t\t\t\tprint('ERROR: {} failed'.format(name))\n",
    "\t\t\t\tprint('ERROR: {} failed'.format(name))\n",
    "\t\t\tj += 1\n",
    "\n",
    "\t\t# go back to page with all other coffee results\n",
    "\t\t#driver.back() # note: this isn't working as expected, manually going back to pg 1 via url instead\n",
    "\t\tdriver.get('https://database.coffeeinstitute.org/coffees/arabica')\n",
    "\t\ttime.sleep(2)\n",
    "\t\tcoffeenum += 1\n",
    "\n",
    "\tpage += 1\n",
    "\tif page == 6:\n",
    "\t\tbreak\n",
    "\n",
    "\n",
    "# close the driver\n",
    "driver.close()\n"
   ]
  },
  {
   "cell_type": "code",
   "execution_count": null,
   "metadata": {},
   "outputs": [],
   "source": []
  },
  {
   "cell_type": "code",
   "execution_count": null,
   "metadata": {},
   "outputs": [],
   "source": []
  },
  {
   "cell_type": "code",
   "execution_count": null,
   "metadata": {},
   "outputs": [],
   "source": []
  },
  {
   "cell_type": "code",
   "execution_count": null,
   "metadata": {},
   "outputs": [],
   "source": []
  }
 ],
 "metadata": {
  "kernelspec": {
   "display_name": "Python 3",
   "language": "python",
   "name": "python3"
  },
  "language_info": {
   "codemirror_mode": {
    "name": "ipython",
    "version": 3
   },
   "file_extension": ".py",
   "mimetype": "text/x-python",
   "name": "python",
   "nbconvert_exporter": "python",
   "pygments_lexer": "ipython3",
   "version": "3.11.2"
  },
  "orig_nbformat": 4
 },
 "nbformat": 4,
 "nbformat_minor": 2
}
